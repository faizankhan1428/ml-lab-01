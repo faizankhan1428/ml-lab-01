{
 "cells": [
  {
   "cell_type": "markdown",
   "id": "9f09b423",
   "metadata": {
    "_cell_guid": "b1076dfc-b9ad-4769-8c92-a6c4dae69d19",
    "_uuid": "8f2839f25d086af736a60e9eeb907d3b93b6e0e5",
    "papermill": {
     "duration": 0.005019,
     "end_time": "2025-07-14T22:54:43.032625",
     "exception": false,
     "start_time": "2025-07-14T22:54:43.027606",
     "status": "completed"
    },
    "tags": []
   },
   "source": [
    "<div style=\"background-color:#e6f0ff; padding:15px; border-radius:10px; font-size:16px\">\n",
    "\n",
    " ## Exercise 1 – Linear Regression from Scratch with NumPy | ML Basics\n",
    "\n",
    "</div>\n"
   ]
  },
  {
   "cell_type": "markdown",
   "id": "ce8a1df1",
   "metadata": {
    "execution": {
     "iopub.execute_input": "2025-07-14T22:41:17.034928Z",
     "iopub.status.busy": "2025-07-14T22:41:17.034040Z",
     "iopub.status.idle": "2025-07-14T22:41:17.044726Z",
     "shell.execute_reply": "2025-07-14T22:41:17.043539Z",
     "shell.execute_reply.started": "2025-07-14T22:41:17.034892Z"
    },
    "papermill": {
     "duration": 0.003099,
     "end_time": "2025-07-14T22:54:43.039622",
     "exception": false,
     "start_time": "2025-07-14T22:54:43.036523",
     "status": "completed"
    },
    "tags": []
   },
   "source": [
    "## Objective\n",
    "Learn how to implement Linear Regression without using machine learning libraries like scikit-learn. This helps build a deeper understanding of how linear models work under the hood."
   ]
  },
  {
   "cell_type": "code",
   "execution_count": 1,
   "id": "fbd7d705",
   "metadata": {
    "execution": {
     "iopub.execute_input": "2025-07-14T22:54:43.047655Z",
     "iopub.status.busy": "2025-07-14T22:54:43.047334Z",
     "iopub.status.idle": "2025-07-14T22:54:47.860511Z",
     "shell.execute_reply": "2025-07-14T22:54:47.859496Z"
    },
    "papermill": {
     "duration": 4.819485,
     "end_time": "2025-07-14T22:54:47.862365",
     "exception": false,
     "start_time": "2025-07-14T22:54:43.042880",
     "status": "completed"
    },
    "tags": []
   },
   "outputs": [],
   "source": [
    "# imports\n",
    "import numpy as np\n",
    "import matplotlib.pyplot as plt\n",
    "import seaborn as sns"
   ]
  },
  {
   "cell_type": "markdown",
   "id": "7e73af4a",
   "metadata": {
    "papermill": {
     "duration": 0.003075,
     "end_time": "2025-07-14T22:54:47.868971",
     "exception": false,
     "start_time": "2025-07-14T22:54:47.865896",
     "status": "completed"
    },
    "tags": []
   },
   "source": [
    "## Step 1: Generate Synthetic Dataset"
   ]
  },
  {
   "cell_type": "code",
   "execution_count": 2,
   "id": "ca57a6b4",
   "metadata": {
    "execution": {
     "iopub.execute_input": "2025-07-14T22:54:47.876789Z",
     "iopub.status.busy": "2025-07-14T22:54:47.876336Z",
     "iopub.status.idle": "2025-07-14T22:54:48.409156Z",
     "shell.execute_reply": "2025-07-14T22:54:48.408301Z"
    },
    "papermill": {
     "duration": 0.53872,
     "end_time": "2025-07-14T22:54:48.410982",
     "exception": false,
     "start_time": "2025-07-14T22:54:47.872262",
     "status": "completed"
    },
    "tags": []
   },
   "outputs": [
    {
     "data": {
      "image/png": "[encoded data removed]",
      "text/plain": [
       "<Figure size 800x500 with 1 Axes>"
      ]
     },
     "metadata": {},
     "output_type": "display_data"
    }
   ],
   "source": [
    "# Set seed for reproducibility\n",
    "np.random.seed(42)\n",
    "\n",
    "# Generate X and y\n",
    "X = 2 * np.random.rand(100, 1)\n",
    "y = 4 + 3 * X + np.random.randn(100, 1)\n",
    "\n",
    "# Visualize\n",
    "plt.figure(figsize=(8,5))\n",
    "plt.scatter(X, y, c='blue', edgecolors='k')\n",
    "plt.xlabel(\"X\")\n",
    "plt.ylabel(\"y\")\n",
    "plt.title(\"Generated Data\")\n",
    "plt.grid(True)\n",
    "plt.show()"
   ]
  },
  {
   "cell_type": "markdown",
   "id": "9a99789a",
   "metadata": {
    "papermill": {
     "duration": 0.004311,
     "end_time": "2025-07-14T22:54:48.419367",
     "exception": false,
     "start_time": "2025-07-14T22:54:48.415056",
     "status": "completed"
    },
    "tags": []
   },
   "source": [
    "## Step 2: Add Bias Term (X0 = 1)"
   ]
  },
  {
   "cell_type": "code",
   "execution_count": 3,
   "id": "8c2e07b3",
   "metadata": {
    "execution": {
     "iopub.execute_input": "2025-07-14T22:54:48.428875Z",
     "iopub.status.busy": "2025-07-14T22:54:48.428555Z",
     "iopub.status.idle": "2025-07-14T22:54:48.433254Z",
     "shell.execute_reply": "2025-07-14T22:54:48.432488Z"
    },
    "papermill": {
     "duration": 0.011094,
     "end_time": "2025-07-14T22:54:48.434698",
     "exception": false,
     "start_time": "2025-07-14T22:54:48.423604",
     "status": "completed"
    },
    "tags": []
   },
   "outputs": [],
   "source": [
    "X_b = np.c_[np.ones((100, 1)), X]  # Add x0 = 1 to each instance"
   ]
  },
  {
   "cell_type": "markdown",
   "id": "e69791db",
   "metadata": {
    "papermill": {
     "duration": 0.003547,
     "end_time": "2025-07-14T22:54:48.442173",
     "exception": false,
     "start_time": "2025-07-14T22:54:48.438626",
     "status": "completed"
    },
    "tags": []
   },
   "source": [
    "## Step 3: Initialize Parameters"
   ]
  },
  {
   "cell_type": "code",
   "execution_count": 4,
   "id": "a6760661",
   "metadata": {
    "execution": {
     "iopub.execute_input": "2025-07-14T22:54:48.451742Z",
     "iopub.status.busy": "2025-07-14T22:54:48.450944Z",
     "iopub.status.idle": "2025-07-14T22:54:48.455773Z",
     "shell.execute_reply": "2025-07-14T22:54:48.455003Z"
    },
    "papermill": {
     "duration": 0.011029,
     "end_time": "2025-07-14T22:54:48.457242",
     "exception": false,
     "start_time": "2025-07-14T22:54:48.446213",
     "status": "completed"
    },
    "tags": []
   },
   "outputs": [],
   "source": [
    "theta = np.random.randn(2, 1)  # Random initial values"
   ]
  },
  {
   "cell_type": "markdown",
   "id": "513d2c31",
   "metadata": {
    "papermill": {
     "duration": 0.003532,
     "end_time": "2025-07-14T22:54:48.464805",
     "exception": false,
     "start_time": "2025-07-14T22:54:48.461273",
     "status": "completed"
    },
    "tags": []
   },
   "source": [
    "## Step 4: Define the Cost Function"
   ]
  },
  {
   "cell_type": "code",
   "execution_count": 5,
   "id": "4cd26d91",
   "metadata": {
    "execution": {
     "iopub.execute_input": "2025-07-14T22:54:48.474265Z",
     "iopub.status.busy": "2025-07-14T22:54:48.473929Z",
     "iopub.status.idle": "2025-07-14T22:54:48.478932Z",
     "shell.execute_reply": "2025-07-14T22:54:48.478005Z"
    },
    "papermill": {
     "duration": 0.011231,
     "end_time": "2025-07-14T22:54:48.480579",
     "exception": false,
     "start_time": "2025-07-14T22:54:48.469348",
     "status": "completed"
    },
    "tags": []
   },
   "outputs": [],
   "source": [
    "def compute_cost(X, y, theta):\n",
    "    m = len(y)\n",
    "    predictions = X.dot(theta)\n",
    "    errors = predictions - y\n",
    "    cost = (1 / (2 * m)) * np.sum(errors ** 2)\n",
    "    return cost"
   ]
  },
  {
   "cell_type": "markdown",
   "id": "dae85735",
   "metadata": {
    "papermill": {
     "duration": 0.003698,
     "end_time": "2025-07-14T22:54:48.488693",
     "exception": false,
     "start_time": "2025-07-14T22:54:48.484995",
     "status": "completed"
    },
    "tags": []
   },
   "source": [
    "## Step 5: Gradient Descent Algorithm"
   ]
  },
  {
   "cell_type": "code",
   "execution_count": 6,
   "id": "ebb6ba04",
   "metadata": {
    "execution": {
     "iopub.execute_input": "2025-07-14T22:54:48.498650Z",
     "iopub.status.busy": "2025-07-14T22:54:48.498031Z",
     "iopub.status.idle": "2025-07-14T22:54:48.503644Z",
     "shell.execute_reply": "2025-07-14T22:54:48.502688Z"
    },
    "papermill": {
     "duration": 0.012335,
     "end_time": "2025-07-14T22:54:48.505375",
     "exception": false,
     "start_time": "2025-07-14T22:54:48.493040",
     "status": "completed"
    },
    "tags": []
   },
   "outputs": [],
   "source": [
    "def gradient_descent(X, y, theta, learning_rate=0.1, iterations=1000):\n",
    "    m = len(y)\n",
    "    cost_history = []\n",
    "\n",
    "    for i in range(iterations):\n",
    "        gradients = (1 / m) * X.T.dot(X.dot(theta) - y)\n",
    "        theta -= learning_rate * gradients\n",
    "        cost_history.append(compute_cost(X, y, theta))\n",
    "    \n",
    "    return theta, cost_history"
   ]
  },
  {
   "cell_type": "markdown",
   "id": "de5d8179",
   "metadata": {
    "papermill": {
     "duration": 0.003472,
     "end_time": "2025-07-14T22:54:48.512719",
     "exception": false,
     "start_time": "2025-07-14T22:54:48.509247",
     "status": "completed"
    },
    "tags": []
   },
   "source": [
    "## Step 6: Train the Model"
   ]
  },
  {
   "cell_type": "code",
   "execution_count": 7,
   "id": "76f6bbbb",
   "metadata": {
    "execution": {
     "iopub.execute_input": "2025-07-14T22:54:48.521734Z",
     "iopub.status.busy": "2025-07-14T22:54:48.521265Z",
     "iopub.status.idle": "2025-07-14T22:54:48.543882Z",
     "shell.execute_reply": "2025-07-14T22:54:48.542795Z"
    },
    "papermill": {
     "duration": 0.029125,
     "end_time": "2025-07-14T22:54:48.545518",
     "exception": false,
     "start_time": "2025-07-14T22:54:48.516393",
     "status": "completed"
    },
    "tags": []
   },
   "outputs": [
    {
     "name": "stdout",
     "output_type": "stream",
     "text": [
      "Final Parameters (Theta): [4.21509609 2.77011344]\n"
     ]
    }
   ],
   "source": [
    "final_theta, cost_history = gradient_descent(X_b, y, theta, learning_rate=0.1, iterations=1000)\n",
    "print(\"Final Parameters (Theta):\", final_theta.ravel())"
   ]
  },
  {
   "cell_type": "markdown",
   "id": "b1bb55d9",
   "metadata": {
    "papermill": {
     "duration": 0.003616,
     "end_time": "2025-07-14T22:54:48.553326",
     "exception": false,
     "start_time": "2025-07-14T22:54:48.549710",
     "status": "completed"
    },
    "tags": []
   },
   "source": [
    "## Step 7: Plot the Cost Over Iterations"
   ]
  },
  {
   "cell_type": "code",
   "execution_count": 8,
   "id": "89e7003c",
   "metadata": {
    "execution": {
     "iopub.execute_input": "2025-07-14T22:54:48.562588Z",
     "iopub.status.busy": "2025-07-14T22:54:48.562268Z",
     "iopub.status.idle": "2025-07-14T22:54:48.729776Z",
     "shell.execute_reply": "2025-07-14T22:54:48.728841Z"
    },
    "papermill": {
     "duration": 0.174002,
     "end_time": "2025-07-14T22:54:48.731480",
     "exception": false,
     "start_time": "2025-07-14T22:54:48.557478",
     "status": "completed"
    },
    "tags": []
   },
   "outputs": [
    {
     "data": {
      "image/png": "[encoded data removed]",
      "text/plain": [
       "<Figure size 640x480 with 1 Axes>"
      ]
     },
     "metadata": {},
     "output_type": "display_data"
    }
   ],
   "source": [
    "plt.plot(cost_history)\n",
    "plt.xlabel(\"Iterations\")\n",
    "plt.ylabel(\"Cost\")\n",
    "plt.title(\"Cost Function Over Time\")\n",
    "plt.grid(True)\n",
    "plt.show()"
   ]
  },
  {
   "cell_type": "markdown",
   "id": "dfa04acb",
   "metadata": {
    "papermill": {
     "duration": 0.00411,
     "end_time": "2025-07-14T22:54:48.740622",
     "exception": false,
     "start_time": "2025-07-14T22:54:48.736512",
     "status": "completed"
    },
    "tags": []
   },
   "source": [
    "## Step 8: Plot Best Fit Line"
   ]
  },
  {
   "cell_type": "code",
   "execution_count": 9,
   "id": "9df99006",
   "metadata": {
    "execution": {
     "iopub.execute_input": "2025-07-14T22:54:48.750826Z",
     "iopub.status.busy": "2025-07-14T22:54:48.750542Z",
     "iopub.status.idle": "2025-07-14T22:54:48.998635Z",
     "shell.execute_reply": "2025-07-14T22:54:48.997498Z"
    },
    "papermill": {
     "duration": 0.255434,
     "end_time": "2025-07-14T22:54:49.000512",
     "exception": false,
     "start_time": "2025-07-14T22:54:48.745078",
     "status": "completed"
    },
    "tags": []
   },
   "outputs": [
    {
     "data": {
      "image/png": "[encoded data removed]",
      "text/plain": [
       "<Figure size 800x500 with 1 Axes>"
      ]
     },
     "metadata": {},
     "output_type": "display_data"
    }
   ],
   "source": [
    "plt.figure(figsize=(8,5))\n",
    "plt.scatter(X, y, c='blue', edgecolors='k', label=\"Data\")\n",
    "plt.plot(X, X_b.dot(final_theta), c='red', label=\"Prediction\")\n",
    "plt.xlabel(\"X\")\n",
    "plt.ylabel(\"y\")\n",
    "plt.title(\"Linear Regression Fit\")\n",
    "plt.legend()\n",
    "plt.grid(True)\n",
    "plt.show()"
   ]
  }
 ],
 "metadata": {
  "kaggle": {
   "accelerator": "none",
   "dataSources": [],
   "dockerImageVersionId": 31089,
   "isGpuEnabled": false,
   "isInternetEnabled": true,
   "language": "python",
   "sourceType": "notebook"
  },
  "kernelspec": {
   "display_name": "Python 3",
   "language": "python",
   "name": "python3"
  },
  "language_info": {
   "codemirror_mode": {
    "name": "ipython",
    "version": 3
   },
   "file_extension": ".py",
   "mimetype": "text/x-python",
   "name": "python",
   "nbconvert_exporter": "python",
   "pygments_lexer": "ipython3",
   "version": "3.11.13"
  },
  "papermill": {
   "default_parameters": {},
   "duration": 12.452814,
   "end_time": "2025-07-14T22:54:49.728380",
   "environment_variables": {},
   "exception": null,
   "input_path": "__notebook__.ipynb",
   "output_path": "__notebook__.ipynb",
   "parameters": {},
   "start_time": "2025-07-14T22:54:37.275566",
   "version": "2.6.0"
  }
 },
 "nbformat": 4,
 "nbformat_minor": 5
}
